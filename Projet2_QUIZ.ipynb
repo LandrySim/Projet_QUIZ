{
 "cells": [
  {
   "cell_type": "code",
   "execution_count": null,
   "metadata": {},
   "outputs": [],
   "source": [
    "nb_de_chance = 3\n",
    "\n",
    "print(\"voici notre quiz, tu as trois chances !\")\n",
    "question1= input(\"Combien de fois la France a gagné la coupe du monde?\")\n",
    "\n",
    "while question != \"2\":\n",
    "    if nb_de_chances == 0:\n",
    "        print(\"Oh non ! Tu as perdu le jeu...\")\n",
    "        break\n",
    "    else:\n",
    "        nb_de_chances -= 1\n",
    "        print(\"Dommage! Il te reste{} chances\".format(nb_de_chances))\n",
    "        question1= input(\"Combien de fois la France a gagné la coupe du monde?\")\n",
    "        \n",
    "if nb_de_chances>0:\n",
    "    question2= input(\"Quand a été fondé Apple\")\n",
    "    while question2 != \"1976\":\n",
    "        if nb_de_chances == 0:\n",
    "            print(\"Oh non ! Tu as perdu le jeu...\")\n",
    "            break\n",
    "        else:\n",
    "            nb_de_chances -=1\n",
    "            print(\"Dommage! Il te reste{} chances\".format(nb_de_chances))\n",
    "            question2= input(\"Quand a été fondé Apple ?\")\n",
    "            \n",
    "if nb_de_chances >0:\n",
    "    question3= input(\"Qui a fondé SpaceX\")\n",
    "    question3 = question3.lower()\n",
    "    while question3 != \"elon musk\":\n",
    "        if nb_de_chances == 0:\n",
    "            print(\"Oh non ! Tu as perdu le jeu...\")\n",
    "            break\n",
    "        else:\n",
    "            nb_de_chances-=1\n",
    "            print(\"Dommage ! Il te reste {} chances\".format(nb_de_chances))\n",
    "            question3 = input(\"Qui a fondé SpaceX\")\n",
    "            question3 = question3.lower()\n",
    "    if question3 == \"elon musk\":\n",
    "        print(\"Bravo ! Tu as gagné le quiz ! \")"
   ]
  },
  {
   "cell_type": "code",
   "execution_count": null,
   "metadata": {},
   "outputs": [],
   "source": []
  }
 ],
 "metadata": {
  "kernelspec": {
   "display_name": "Python 3",
   "language": "python",
   "name": "python3"
  },
  "language_info": {
   "codemirror_mode": {
    "name": "ipython",
    "version": 3
   },
   "file_extension": ".py",
   "mimetype": "text/x-python",
   "name": "python",
   "nbconvert_exporter": "python",
   "pygments_lexer": "ipython3",
   "version": "3.6.4"
  }
 },
 "nbformat": 4,
 "nbformat_minor": 2
}
